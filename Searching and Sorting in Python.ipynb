{
 "cells": [
  {
   "cell_type": "markdown",
   "metadata": {},
   "source": [
    "## Linear Search function in Python\n",
    "This function looks for an item in list\n"
   ]
  },
  {
   "cell_type": "code",
   "execution_count": 15,
   "metadata": {},
   "outputs": [
    {
     "name": "stdout",
     "output_type": "stream",
     "text": [
      "Enter the list items\n",
      "Enter item 1:1\n",
      "Enter item 2:2\n",
      "Enter item 3:3\n",
      "Enter item 4:4\n",
      "Enter item 5:5\n",
      "Enter item 6:\n",
      "['1', '2', '3', '4', '5']\n",
      "What item do you want?3\n",
      "Its there in the list\n"
     ]
    }
   ],
   "source": [
    "def linear_search(myitem,mylist):\n",
    "    position = 0\n",
    "    found = False\n",
    "    while position < len(mylist) and not found:\n",
    "        if mylist[position] == myitem:\n",
    "            found = True\n",
    "        position = position + 1\n",
    "    return found\n",
    "\n",
    "if __name__ == \"__main__\":\n",
    "    i = 0\n",
    "    print(\"Enter the list items\")\n",
    "    myList = []\n",
    "    while 1:\n",
    "        i+=1\n",
    "        item = input(\"Enter item %d:\" %i)\n",
    "        if item == '':\n",
    "            break\n",
    "        myList.append(item)\n",
    "    print(myList)     \n",
    "    item = input(\"What item do you want?\")\n",
    "    isitfound = linear_search(item,myList)\n",
    "    if isitfound:\n",
    "        print(\"Its there in the list\")\n",
    "    else:\n",
    "        print(\"Its not there in the list\")"
   ]
  },
  {
   "cell_type": "code",
   "execution_count": 10,
   "metadata": {},
   "outputs": [
    {
     "data": {
      "text/plain": [
       "True"
      ]
     },
     "execution_count": 10,
     "metadata": {},
     "output_type": "execute_result"
    }
   ],
   "source": [
    "linear_search(2, [1,2,3,4,5])"
   ]
  }
 ],
 "metadata": {
  "kernelspec": {
   "display_name": "Python 3",
   "language": "python",
   "name": "python3"
  },
  "language_info": {
   "codemirror_mode": {
    "name": "ipython",
    "version": 3
   },
   "file_extension": ".py",
   "mimetype": "text/x-python",
   "name": "python",
   "nbconvert_exporter": "python",
   "pygments_lexer": "ipython3",
   "version": "3.5.2"
  }
 },
 "nbformat": 4,
 "nbformat_minor": 2
}
